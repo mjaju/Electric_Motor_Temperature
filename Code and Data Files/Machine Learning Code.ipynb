{
 "cells": [
  {
   "cell_type": "code",
   "execution_count": 1,
   "metadata": {},
   "outputs": [],
   "source": [
    "# Importing necessary libraries\n",
    "import numpy as np\n",
    "import pandas as pd\n",
    "from sklearn.ensemble import RandomForestRegressor\n",
    "from sklearn.linear_model import LinearRegression\n",
    "from sklearn.svm import SVR\n",
    "from sklearn.metrics import accuracy_score\n",
    "from sklearn.metrics import mean_squared_error, r2_score, mean_absolute_error"
   ]
  },
  {
   "cell_type": "code",
   "execution_count": 2,
   "metadata": {},
   "outputs": [],
   "source": [
    "# Opening up the file\n",
    "x_val = np.load('x_val.npy',allow_pickle=True)\n",
    "y_val = np.load('y_val.npy',allow_pickle=True)\n",
    "\n",
    "\n",
    "x_train = np.load('x_train.npy',allow_pickle=True)\n",
    "y_train = np.load('y_train.npy',allow_pickle=True)\n",
    "\n",
    "\n",
    "x_test = np.load('x_test.npy',allow_pickle=True)\n",
    "y_test = np.load('y_test.npy',allow_pickle=True)"
   ]
  },
  {
   "cell_type": "code",
   "execution_count": 4,
   "metadata": {
    "scrolled": true
   },
   "outputs": [
    {
     "name": "stdout",
     "output_type": "stream",
     "text": [
      "Training data shape:  (696465, 660)\n",
      "Training data shape:  (696465,)\n"
     ]
    }
   ],
   "source": [
    "x_train = x_train.reshape(x_train.shape[0], -1)\n",
    "x_val = x_val.reshape(x_val.shape[0], -1)\n",
    "x_test = x_test.reshape(x_test.shape[0], -1)\n",
    "\n",
    "\n",
    "print('Training data shape: ', x_train.shape)\n",
    "print('Training data shape: ', y_train.shape)"
   ]
  },
  {
   "cell_type": "markdown",
   "metadata": {},
   "source": [
    "## Trying random Forest regressor model over the data"
   ]
  },
  {
   "cell_type": "code",
   "execution_count": 5,
   "metadata": {},
   "outputs": [
    {
     "name": "stderr",
     "output_type": "stream",
     "text": [
      "C:\\Users\\mjaju\\Anaconda3\\lib\\site-packages\\sklearn\\ensemble\\forest.py:245: FutureWarning: The default value of n_estimators will change from 10 in version 0.20 to 100 in 0.22.\n",
      "  \"10 in version 0.20 to 100 in 0.22.\", FutureWarning)\n"
     ]
    },
    {
     "data": {
      "text/plain": [
       "RandomForestRegressor(bootstrap=True, criterion='mse', max_depth=None,\n",
       "                      max_features='auto', max_leaf_nodes=None,\n",
       "                      min_impurity_decrease=0.0, min_impurity_split=None,\n",
       "                      min_samples_leaf=1, min_samples_split=2,\n",
       "                      min_weight_fraction_leaf=0.0, n_estimators=10, n_jobs=8,\n",
       "                      oob_score=False, random_state=None, verbose=0,\n",
       "                      warm_start=False)"
      ]
     },
     "execution_count": 5,
     "metadata": {},
     "output_type": "execute_result"
    }
   ],
   "source": [
    "# Random Forest\n",
    "RF=RandomForestRegressor(n_jobs = 8)\n",
    "RF.fit(x_train,y_train)"
   ]
  },
  {
   "cell_type": "code",
   "execution_count": 6,
   "metadata": {},
   "outputs": [
    {
     "name": "stdout",
     "output_type": "stream",
     "text": [
      "The MAE value for the training set is  0.004666257493994218\n",
      "The MSE value for the training set is  0.0003068514610250229\n",
      "The R2 value for the training set is  0.9996872384970286\n",
      "The MAE value for the Validation set is  0.01139197847846533\n",
      "The MSE value for the Validation set is  0.0010695277035228392\n",
      "The R2 value for the Validation set is  0.9989087972856604\n",
      "The MAE value for the testing set is  0.011454348026427311\n",
      "The MSE value for the testing set is  0.001105928980032769\n",
      "The R2 value for the testing set is  0.9988778391336003\n"
     ]
    }
   ],
   "source": [
    "from sklearn.metrics import mean_squared_error, r2_score, mean_absolute_error\n",
    "train_predictions = RF.predict(x_train)\n",
    "# Mean absolute error (MAE)\n",
    "mae = mean_absolute_error(y_train, train_predictions)\n",
    "print('The MAE value for the training set is ',mae)\n",
    "# Mean squared error (MSE)\n",
    "mse = mean_squared_error(y_train, train_predictions)\n",
    "print('The MSE value for the training set is ',mse)\n",
    "# R-squared scores\n",
    "r2 = r2_score(y_train, train_predictions)\n",
    "print('The R2 value for the training set is ',r2)\n",
    "\n",
    "val_predictions = RF.predict(x_val)\n",
    "# Mean absolute error (MAE)\n",
    "mae_val = mean_absolute_error(y_val, val_predictions)\n",
    "print('The MAE value for the Validation set is ',mae_val)\n",
    "# Mean squared error (MSE)\n",
    "mse_val = mean_squared_error(y_val, val_predictions)\n",
    "print('The MSE value for the Validation set is ',mse_val)\n",
    "# R-squared scores\n",
    "r2_val = r2_score(y_val, val_predictions)\n",
    "print('The R2 value for the Validation set is ',r2_val)\n",
    "\n",
    "test_predictions = RF.predict(x_test)\n",
    "# Mean absolute error (MAE)\n",
    "mae_test = mean_absolute_error(y_test, test_predictions)\n",
    "print('The MAE value for the testing set is ',mae_test)\n",
    "# Mean squared error (MSE)\n",
    "mse_test = mean_squared_error(y_test, test_predictions)\n",
    "print('The MSE value for the testing set is ',mse_test)\n",
    "# R-squared scores\n",
    "r2_test = r2_score(y_test, test_predictions)\n",
    "print('The R2 value for the testing set is ',r2_test)"
   ]
  },
  {
   "cell_type": "markdown",
   "metadata": {},
   "source": [
    "## Trying Linear regression model over the data"
   ]
  },
  {
   "cell_type": "code",
   "execution_count": 7,
   "metadata": {},
   "outputs": [
    {
     "data": {
      "text/plain": [
       "LinearRegression(copy_X=True, fit_intercept=True, n_jobs=None, normalize=False)"
      ]
     },
     "execution_count": 7,
     "metadata": {},
     "output_type": "execute_result"
    }
   ],
   "source": [
    "# Linear Regression\n",
    "LR=LinearRegression()\n",
    "LR.fit(x_train,y_train)"
   ]
  },
  {
   "cell_type": "code",
   "execution_count": 8,
   "metadata": {},
   "outputs": [
    {
     "name": "stdout",
     "output_type": "stream",
     "text": [
      "The MAE value for the training set is  0.3339296766911941\n",
      "The MSE value for the training set is  0.1955943402311083\n",
      "The R2 value for the training set is  0.8006384599928565\n",
      "The MAE value for the Validation set is  0.33324889782384903\n",
      "The MSE value for the Validation set is  0.19467919632463282\n",
      "The R2 value for the Validation set is  0.8013754419308985\n",
      "The MAE value for the testing set is  0.33521500120381653\n",
      "The MSE value for the testing set is  0.19713270787636364\n",
      "The R2 value for the testing set is  0.799973945650922\n"
     ]
    }
   ],
   "source": [
    "train_predictions = LR.predict(x_train)\n",
    "# Mean absolute error (MAE)\n",
    "mae = mean_absolute_error(y_train, train_predictions)\n",
    "print('The MAE value for the training set is ',mae)\n",
    "# Mean squared error (MSE)\n",
    "mse = mean_squared_error(y_train, train_predictions)\n",
    "print('The MSE value for the training set is ',mse)\n",
    "# R-squared scores\n",
    "r2 = r2_score(y_train, train_predictions)\n",
    "print('The R2 value for the training set is ',r2)\n",
    "\n",
    "val_predictions = LR.predict(x_val)\n",
    "# Mean absolute error (MAE)\n",
    "mae_val = mean_absolute_error(y_val, val_predictions)\n",
    "print('The MAE value for the Validation set is ',mae_val)\n",
    "# Mean squared error (MSE)\n",
    "mse_val = mean_squared_error(y_val, val_predictions)\n",
    "print('The MSE value for the Validation set is ',mse_val)\n",
    "# R-squared scores\n",
    "r2_val = r2_score(y_val, val_predictions)\n",
    "print('The R2 value for the Validation set is ',r2_val)\n",
    "\n",
    "test_predictions = LR.predict(x_test)\n",
    "# Mean absolute error (MAE)\n",
    "mae_test = mean_absolute_error(y_test, test_predictions)\n",
    "print('The MAE value for the testing set is ',mae_test)\n",
    "# Mean squared error (MSE)\n",
    "mse_test = mean_squared_error(y_test, test_predictions)\n",
    "print('The MSE value for the testing set is ',mse_test)\n",
    "# R-squared scores\n",
    "r2_test = r2_score(y_test, test_predictions)\n",
    "print('The R2 value for the testing set is ',r2_test)"
   ]
  },
  {
   "cell_type": "code",
   "execution_count": 9,
   "metadata": {},
   "outputs": [],
   "source": [
    "x_train = x_train[0:10000]\n",
    "y_train = y_train[0:10000]"
   ]
  },
  {
   "cell_type": "markdown",
   "metadata": {},
   "source": [
    "## Trying the SVR model over the data"
   ]
  },
  {
   "cell_type": "code",
   "execution_count": 10,
   "metadata": {},
   "outputs": [
    {
     "name": "stderr",
     "output_type": "stream",
     "text": [
      "C:\\Users\\mjaju\\Anaconda3\\lib\\site-packages\\sklearn\\svm\\base.py:193: FutureWarning: The default value of gamma will change from 'auto' to 'scale' in version 0.22 to account better for unscaled features. Set gamma explicitly to 'auto' or 'scale' to avoid this warning.\n",
      "  \"avoid this warning.\", FutureWarning)\n"
     ]
    },
    {
     "data": {
      "text/plain": [
       "SVR(C=1.0, cache_size=200, coef0=0.0, degree=3, epsilon=0.1,\n",
       "    gamma='auto_deprecated', kernel='rbf', max_iter=-1, shrinking=True,\n",
       "    tol=0.001, verbose=False)"
      ]
     },
     "execution_count": 10,
     "metadata": {},
     "output_type": "execute_result"
    }
   ],
   "source": [
    "# Support Vector Regressor\n",
    "svr=SVR()\n",
    "svr.fit(x_train,y_train)"
   ]
  },
  {
   "cell_type": "code",
   "execution_count": 13,
   "metadata": {},
   "outputs": [
    {
     "name": "stdout",
     "output_type": "stream",
     "text": [
      "The MAE value for the training set is  0.24435902330918652\n",
      "The MSE value for the training set is  0.12016559514606037\n",
      "The R2 value for the training set is  0.8778208652638262\n",
      "The MAE value for the Validation set is  0.26282104584793786\n",
      "The MSE value for the Validation set is  0.13614216226187922\n",
      "The R2 value for the Validation set is  0.8610987854668057\n",
      "The MAE value for the testing set is  0.263540914424506\n",
      "The MSE value for the testing set is  0.13747176285253543\n",
      "The R2 value for the testing set is  0.8605105433591934\n"
     ]
    }
   ],
   "source": [
    "train_predictions = svr.predict(x_train)\n",
    "# Mean absolute error (MAE)\n",
    "mae = mean_absolute_error(y_train, train_predictions)\n",
    "print('The MAE value for the training set is ',mae)\n",
    "# Mean squared error (MSE)\n",
    "mse = mean_squared_error(y_train, train_predictions)\n",
    "print('The MSE value for the training set is ',mse)\n",
    "# R-squared scores\n",
    "r2 = r2_score(y_train, train_predictions)\n",
    "print('The R2 value for the training set is ',r2)\n",
    "\n",
    "val_predictions = svr.predict(x_val)\n",
    "# Mean absolute error (MAE)\n",
    "mae_val = mean_absolute_error(y_val, val_predictions)\n",
    "print('The MAE value for the Validation set is ',mae_val)\n",
    "# Mean squared error (MSE)\n",
    "mse_val = mean_squared_error(y_val, val_predictions)\n",
    "print('The MSE value for the Validation set is ',mse_val)\n",
    "# R-squared scores\n",
    "r2_val = r2_score(y_val, val_predictions)\n",
    "print('The R2 value for the Validation set is ',r2_val)\n",
    "\n",
    "test_predictions = svr.predict(x_test)\n",
    "# Mean absolute error (MAE)\n",
    "mae_test = mean_absolute_error(y_test, test_predictions)\n",
    "print('The MAE value for the testing set is ',mae_test)\n",
    "# Mean squared error (MSE)\n",
    "mse_test = mean_squared_error(y_test, test_predictions)\n",
    "print('The MSE value for the testing set is ',mse_test)\n",
    "# R-squared scores\n",
    "r2_test = r2_score(y_test, test_predictions)\n",
    "print('The R2 value for the testing set is ',r2_test)"
   ]
  }
 ],
 "metadata": {
  "kernelspec": {
   "display_name": "Python 3",
   "language": "python",
   "name": "python3"
  },
  "language_info": {
   "codemirror_mode": {
    "name": "ipython",
    "version": 3
   },
   "file_extension": ".py",
   "mimetype": "text/x-python",
   "name": "python",
   "nbconvert_exporter": "python",
   "pygments_lexer": "ipython3",
   "version": "3.7.4"
  }
 },
 "nbformat": 4,
 "nbformat_minor": 2
}
